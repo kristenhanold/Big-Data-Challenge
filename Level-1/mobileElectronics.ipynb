{
  "nbformat": 4,
  "nbformat_minor": 0,
  "metadata": {
    "colab": {
      "name": "mobileElectronics.ipynb",
      "provenance": [],
      "collapsed_sections": []
    },
    "kernelspec": {
      "name": "python3",
      "display_name": "Python 3"
    },
    "language_info": {
      "name": "python"
    }
  },
  "cells": [
    {
      "cell_type": "code",
      "execution_count": 1,
      "metadata": {
        "id": "guLrNzwEGP9L",
        "colab": {
          "base_uri": "https://localhost:8080/"
        },
        "outputId": "c52301a3-9303-4e52-edd6-83996868f7f2"
      },
      "outputs": [
        {
          "output_type": "stream",
          "name": "stdout",
          "text": [
            "\r0% [Working]\r            \rGet:1 http://security.ubuntu.com/ubuntu bionic-security InRelease [88.7 kB]\n",
            "\r0% [Connecting to archive.ubuntu.com (91.189.88.152)] [1 InRelease 6,931 B/88.7\r0% [Waiting for headers] [Waiting for headers] [Waiting for headers] [Waiting f\r                                                                               \rGet:2 https://cloud.r-project.org/bin/linux/ubuntu bionic-cran40/ InRelease [3,626 B]\n",
            "\r                                                                               \r0% [Waiting for headers] [Waiting for headers] [Waiting for headers]\r                                                                    \rIgn:3 https://developer.download.nvidia.com/compute/cuda/repos/ubuntu1804/x86_64  InRelease\n",
            "Get:4 http://ppa.launchpad.net/c2d4u.team/c2d4u4.0+/ubuntu bionic InRelease [15.9 kB]\n",
            "Hit:5 http://archive.ubuntu.com/ubuntu bionic InRelease\n",
            "Ign:6 https://developer.download.nvidia.com/compute/machine-learning/repos/ubuntu1804/x86_64  InRelease\n",
            "Get:7 https://developer.download.nvidia.com/compute/cuda/repos/ubuntu1804/x86_64  Release [696 B]\n",
            "Hit:8 https://developer.download.nvidia.com/compute/machine-learning/repos/ubuntu1804/x86_64  Release\n",
            "Get:9 https://developer.download.nvidia.com/compute/cuda/repos/ubuntu1804/x86_64  Release.gpg [836 B]\n",
            "Get:10 http://archive.ubuntu.com/ubuntu bionic-updates InRelease [88.7 kB]\n",
            "Hit:11 http://ppa.launchpad.net/cran/libgit2/ubuntu bionic InRelease\n",
            "Hit:12 http://ppa.launchpad.net/deadsnakes/ppa/ubuntu bionic InRelease\n",
            "Get:13 http://archive.ubuntu.com/ubuntu bionic-backports InRelease [74.6 kB]\n",
            "Get:14 http://ppa.launchpad.net/graphics-drivers/ppa/ubuntu bionic InRelease [21.3 kB]\n",
            "Get:15 http://security.ubuntu.com/ubuntu bionic-security/main amd64 Packages [2,596 kB]\n",
            "Get:16 http://security.ubuntu.com/ubuntu bionic-security/universe amd64 Packages [1,474 kB]\n",
            "Get:17 http://security.ubuntu.com/ubuntu bionic-security/restricted amd64 Packages [806 kB]\n",
            "Get:19 https://developer.download.nvidia.com/compute/cuda/repos/ubuntu1804/x86_64  Packages [930 kB]\n",
            "Get:20 http://ppa.launchpad.net/c2d4u.team/c2d4u4.0+/ubuntu bionic/main Sources [1,827 kB]\n",
            "Get:21 http://archive.ubuntu.com/ubuntu bionic-updates/main amd64 Packages [3,035 kB]\n",
            "Get:22 http://ppa.launchpad.net/c2d4u.team/c2d4u4.0+/ubuntu bionic/main amd64 Packages [937 kB]\n",
            "Get:23 http://archive.ubuntu.com/ubuntu bionic-updates/universe amd64 Packages [2,252 kB]\n",
            "Get:24 http://archive.ubuntu.com/ubuntu bionic-updates/restricted amd64 Packages [840 kB]\n",
            "Get:25 http://ppa.launchpad.net/graphics-drivers/ppa/ubuntu bionic/main amd64 Packages [42.8 kB]\n",
            "Fetched 15.0 MB in 7s (2,254 kB/s)\n",
            "Reading package lists... Done\n"
          ]
        }
      ],
      "source": [
        "import os\n",
        "# Find the latest version of spark 3.0  from http://www.apache.org/dist/spark/ and enter as the spark version\n",
        "# For example:\n",
        "spark_version = 'spark-3.0.3'\n",
        "# spark_version = 'spark-3.<enter version>'\n",
        "os.environ['SPARK_VERSION']=spark_version\n",
        "\n",
        "# Install Spark and Java\n",
        "!apt-get update\n",
        "!apt-get install openjdk-8-jdk-headless -qq > /dev/null\n",
        "!wget -q http://www.apache.org/dist/spark/$SPARK_VERSION/$SPARK_VERSION-bin-hadoop2.7.tgz\n",
        "!tar xf $SPARK_VERSION-bin-hadoop2.7.tgz\n",
        "!pip install -q findspark\n",
        "\n",
        "# Set Environment Variables\n",
        "os.environ[\"JAVA_HOME\"] = \"/usr/lib/jvm/java-8-openjdk-amd64\"\n",
        "os.environ[\"SPARK_HOME\"] = f\"/content/{spark_version}-bin-hadoop2.7\"\n",
        "\n",
        "# Start a SparkSession\n",
        "import findspark\n",
        "findspark.init()"
      ]
    },
    {
      "cell_type": "code",
      "source": [
        "!wget https://jdbc.postgresql.org/download/postgresql-42.2.9.jar"
      ],
      "metadata": {
        "colab": {
          "base_uri": "https://localhost:8080/"
        },
        "id": "llCHcEUolY5W",
        "outputId": "ecde0598-f25e-448c-cbf0-fa82ddee0e2f"
      },
      "execution_count": 2,
      "outputs": [
        {
          "output_type": "stream",
          "name": "stdout",
          "text": [
            "--2022-02-25 19:38:59--  https://jdbc.postgresql.org/download/postgresql-42.2.9.jar\n",
            "Resolving jdbc.postgresql.org (jdbc.postgresql.org)... 72.32.157.228, 2001:4800:3e1:1::228\n",
            "Connecting to jdbc.postgresql.org (jdbc.postgresql.org)|72.32.157.228|:443... connected.\n",
            "HTTP request sent, awaiting response... 200 OK\n",
            "Length: 914037 (893K) [application/java-archive]\n",
            "Saving to: ‘postgresql-42.2.9.jar’\n",
            "\n",
            "postgresql-42.2.9.j 100%[===================>] 892.61K  --.-KB/s    in 0.1s    \n",
            "\n",
            "2022-02-25 19:38:59 (6.00 MB/s) - ‘postgresql-42.2.9.jar’ saved [914037/914037]\n",
            "\n"
          ]
        }
      ]
    },
    {
      "cell_type": "code",
      "source": [
        "# starting Spark session\n",
        "from pyspark.sql import SparkSession\n",
        "from pyspark.sql.functions import *\n",
        "from pyspark.sql.types import IntegerType\n",
        "spark = SparkSession.builder.appName(\"CloudETL\").config(\"spark.driver.extraClassPath\",\"/content/postgresql-42.2.9.jar\").getOrCreate()"
      ],
      "metadata": {
        "id": "ztn9209sUvP3"
      },
      "execution_count": 3,
      "outputs": []
    },
    {
      "cell_type": "markdown",
      "source": [
        "# Import Data"
      ],
      "metadata": {
        "id": "a2z0OzGNXCeP"
      }
    },
    {
      "cell_type": "code",
      "source": [
        "# Read in data from S3 Buckets\n",
        "from pyspark import SparkFiles\n",
        "url=\"https://s3.amazonaws.com/amazon-reviews-pds/tsv/amazon_reviews_us_Mobile_Electronics_v1_00.tsv.gz\"\n",
        "spark.sparkContext.addFile(url)\n",
        "mobile_electronics_df = spark.read.csv(SparkFiles.get(\"amazon_reviews_us_Mobile_Electronics_v1_00.tsv.gz\"), sep = r\"\\t\", header = True, inferSchema = True)\n",
        "\n",
        "# Show DataFrame\n",
        "mobile_electronics_df.show()"
      ],
      "metadata": {
        "colab": {
          "base_uri": "https://localhost:8080/"
        },
        "id": "GA397-iIb4lW",
        "outputId": "621dacba-e357-4466-fe78-9e958b7d3699"
      },
      "execution_count": 4,
      "outputs": [
        {
          "output_type": "stream",
          "name": "stdout",
          "text": [
            "+-----------+-----------+--------------+----------+--------------+--------------------+------------------+-----------+-------------+-----------+----+-----------------+--------------------+--------------------+-----------+\n",
            "|marketplace|customer_id|     review_id|product_id|product_parent|       product_title|  product_category|star_rating|helpful_votes|total_votes|vine|verified_purchase|     review_headline|         review_body|review_date|\n",
            "+-----------+-----------+--------------+----------+--------------+--------------------+------------------+-----------+-------------+-----------+----+-----------------+--------------------+--------------------+-----------+\n",
            "|         US|   20422322| R8MEA6IGAHO0B|B00MC4CED8|     217304173|BlackVue DR600GW-PMP|Mobile_Electronics|          5|            0|          0|   N|                Y|         Very Happy!|As advertised. Ev...| 2015-08-31|\n",
            "|         US|   40835037|R31LOQ8JGLPRLK|B00OQMFG1Q|     137313254|GENSSI GSM / GPS ...|Mobile_Electronics|          5|            0|          1|   N|                Y|           five star|          it's great| 2015-08-31|\n",
            "|         US|   51469641|R2Y0MM9YE6OP3P|B00QERR5CY|      82850235|iXCC Multi pack L...|Mobile_Electronics|          5|            0|          0|   N|                Y|        great cables|These work great ...| 2015-08-31|\n",
            "|         US|    4332923| RRB9C05HDOD4O|B00QUFTPV4|     221169481|abcGoodefg® FBI C...|Mobile_Electronics|          4|            0|          0|   N|                Y|Work very well bu...|Work very well bu...| 2015-08-31|\n",
            "|         US|   44855305|R26I2RI1GFV8QG|B0067XVNTG|     563475445|Generic Car Dashb...|Mobile_Electronics|          2|            0|          0|   N|                Y|Cameras has batte...|Be careful with t...| 2015-08-31|\n",
            "|         US|    7846966| RY8DDL22YG4R5|B00KA6CCVY|     713636156|Aweek® Air Acoust...|Mobile_Electronics|          3|            0|          1|   N|                Y|It appears to be ...|It appears to be ...| 2015-08-31|\n",
            "|         US|   21299354|R2AT2426ZHFUHH|B00MJCDPM2|     754171872|Sentey LS-4460 B-...|Mobile_Electronics|          3|            0|          1|   N|                Y|Didn't love the f...|First one arrived...| 2015-08-31|\n",
            "|         US|   28902968|R3RRXU2R23NMQ9|B00ET5AWBY|     508373185|iPad Car Headrest...|Mobile_Electronics|          5|            0|          0|   N|                Y|          Five Stars|Worked great for ...| 2015-08-31|\n",
            "|         US|    2074438|R250PR8VJUZ62F|B00Z9K379C|     759387370|ANWING Waterproof...|Mobile_Electronics|          4|            0|          2|   N|                Y|          Four Stars|this is a very go...| 2015-08-31|\n",
            "|         US|   48701722| RBEMQ29WJBHYG|B00YO3UYXW|     913911909|Jensen MCR-100 Ca...|Mobile_Electronics|          5|          164|        168|   N|                Y|  I LOVE my recorder|I LOVE my recorde...| 2015-08-31|\n",
            "|         US|    2990247|R19VVIUT4BZCMT|B011W26BU2|     938399424|Bluetooth Speaker...|Mobile_Electronics|          5|            2|          2|   N|                Y|          Five Stars|Great sound great...| 2015-08-31|\n",
            "|         US|   52946117|R1DT8JJUQHUKUL|B00H8PI78C|     661515294|15Pcs DC 5V 85dB ...|Mobile_Electronics|          3|            0|          1|   N|                Y|More of a beeper ...|If what you want ...| 2015-08-31|\n",
            "|         US|   49359994| RLIL6S9OGM3YA|B00M49C6MK|      91176851|      Sentey Ls 4162|Mobile_Electronics|          5|            0|          0|   N|                Y|          Five Stars|             Love it| 2015-08-31|\n",
            "|         US|    4158732|R34EZZ68VYPHO0|B011Q291PK|     891142775|IcePACK 8 Can Ins...|Mobile_Electronics|          1|            1|          1|   N|                Y|            One Star|               Sucks| 2015-08-31|\n",
            "|         US|   18944032|R3TZNSOXS13SIG|B00W6OLUGQ|     577462547|DTK® AMI MDI MMI ...|Mobile_Electronics|          2|            1|          3|   N|                Y|           Two Stars|u need to plug in...| 2015-08-31|\n",
            "|         US|     279606|R12UBZT87UX3AP|B008MY1F8W|     680240984|INPA K+CAN K+DCAN...|Mobile_Electronics|          5|            2|          2|   N|                Y|          Five Stars|Worked with MHD F...| 2015-08-31|\n",
            "|         US|   10947966| R5KCRE927NYMU|B00KW3XNUE|     219920841|Magicfly Wireless...|Mobile_Electronics|          2|            0|          0|   N|                N|Battery Cover Poo...|Just arrived,  re...| 2015-08-31|\n",
            "|         US|   18387442| RT12RQFU0V2AX|B009NGR0AK|     254898339|Humminbird XNT 9 ...|Mobile_Electronics|          5|            1|          1|   N|                Y|        Works great.|I bought this uni...| 2015-08-31|\n",
            "|         US|   48950322|R2K0YQPV5W2SJ1|B011W26BU2|     938399424|Bluetooth Speaker...|Mobile_Electronics|          4|            2|          2|   N|                Y|A Lot of Sound In...|I am giving the s...| 2015-08-31|\n",
            "|         US|   48148197|R104MY31OKNGXH|B00PAP68WO|     366592530|Foxnovo 3.7V 380m...|Mobile_Electronics|          5|            0|          0|   N|                Y|          Five Stars|Met my applicatio...| 2015-08-31|\n",
            "+-----------+-----------+--------------+----------+--------------+--------------------+------------------+-----------+-------------+-----------+----+-----------------+--------------------+--------------------+-----------+\n",
            "only showing top 20 rows\n",
            "\n"
          ]
        }
      ]
    },
    {
      "cell_type": "markdown",
      "source": [
        "# Create and Clean New DataFrames for Customers, Products and Reviews"
      ],
      "metadata": {
        "id": "7jl70yQ0XGbh"
      }
    },
    {
      "cell_type": "code",
      "source": [
        "# Create reviews dataframe to match mobile_electronics_df table\n",
        "electronics_reviews_df = mobile_electronics_df.select([\"review_id\", \"customer_id\", \"product_id\",\n",
        "                                         \"product_parent\", \"review_date\"])\n",
        "electronics_reviews_df.show()"
      ],
      "metadata": {
        "colab": {
          "base_uri": "https://localhost:8080/"
        },
        "id": "Zztvm-t4ftaZ",
        "outputId": "087e61a3-9644-445f-8c79-b2da98be8307"
      },
      "execution_count": 5,
      "outputs": [
        {
          "output_type": "stream",
          "name": "stdout",
          "text": [
            "+--------------+-----------+----------+--------------+-----------+\n",
            "|     review_id|customer_id|product_id|product_parent|review_date|\n",
            "+--------------+-----------+----------+--------------+-----------+\n",
            "| R8MEA6IGAHO0B|   20422322|B00MC4CED8|     217304173| 2015-08-31|\n",
            "|R31LOQ8JGLPRLK|   40835037|B00OQMFG1Q|     137313254| 2015-08-31|\n",
            "|R2Y0MM9YE6OP3P|   51469641|B00QERR5CY|      82850235| 2015-08-31|\n",
            "| RRB9C05HDOD4O|    4332923|B00QUFTPV4|     221169481| 2015-08-31|\n",
            "|R26I2RI1GFV8QG|   44855305|B0067XVNTG|     563475445| 2015-08-31|\n",
            "| RY8DDL22YG4R5|    7846966|B00KA6CCVY|     713636156| 2015-08-31|\n",
            "|R2AT2426ZHFUHH|   21299354|B00MJCDPM2|     754171872| 2015-08-31|\n",
            "|R3RRXU2R23NMQ9|   28902968|B00ET5AWBY|     508373185| 2015-08-31|\n",
            "|R250PR8VJUZ62F|    2074438|B00Z9K379C|     759387370| 2015-08-31|\n",
            "| RBEMQ29WJBHYG|   48701722|B00YO3UYXW|     913911909| 2015-08-31|\n",
            "|R19VVIUT4BZCMT|    2990247|B011W26BU2|     938399424| 2015-08-31|\n",
            "|R1DT8JJUQHUKUL|   52946117|B00H8PI78C|     661515294| 2015-08-31|\n",
            "| RLIL6S9OGM3YA|   49359994|B00M49C6MK|      91176851| 2015-08-31|\n",
            "|R34EZZ68VYPHO0|    4158732|B011Q291PK|     891142775| 2015-08-31|\n",
            "|R3TZNSOXS13SIG|   18944032|B00W6OLUGQ|     577462547| 2015-08-31|\n",
            "|R12UBZT87UX3AP|     279606|B008MY1F8W|     680240984| 2015-08-31|\n",
            "| R5KCRE927NYMU|   10947966|B00KW3XNUE|     219920841| 2015-08-31|\n",
            "| RT12RQFU0V2AX|   18387442|B009NGR0AK|     254898339| 2015-08-31|\n",
            "|R2K0YQPV5W2SJ1|   48950322|B011W26BU2|     938399424| 2015-08-31|\n",
            "|R104MY31OKNGXH|   48148197|B00PAP68WO|     366592530| 2015-08-31|\n",
            "+--------------+-----------+----------+--------------+-----------+\n",
            "only showing top 20 rows\n",
            "\n"
          ]
        }
      ]
    },
    {
      "cell_type": "code",
      "source": [
        "# checking the datatypes of each column\n",
        "electronics_reviews_df.printSchema()"
      ],
      "metadata": {
        "colab": {
          "base_uri": "https://localhost:8080/"
        },
        "id": "FTDs424AgVv4",
        "outputId": "d75288b4-b62b-438a-a80b-bbe0ba301170"
      },
      "execution_count": 6,
      "outputs": [
        {
          "output_type": "stream",
          "name": "stdout",
          "text": [
            "root\n",
            " |-- review_id: string (nullable = true)\n",
            " |-- customer_id: integer (nullable = true)\n",
            " |-- product_id: string (nullable = true)\n",
            " |-- product_parent: integer (nullable = true)\n",
            " |-- review_date: string (nullable = true)\n",
            "\n"
          ]
        }
      ]
    },
    {
      "cell_type": "code",
      "source": [
        "# changing review_date to 'date' data type in \"yyyy-mm-dd\" format\n",
        "electronics_reviews_df = electronics_reviews_df.withColumn(\"review_date\",to_date(col(\"review_date\"),\"yyyy-mm-dd\"))"
      ],
      "metadata": {
        "id": "2Z9l5HkmgxHZ"
      },
      "execution_count": 7,
      "outputs": []
    },
    {
      "cell_type": "code",
      "source": [
        "# confirming change has been made\n",
        "electronics_reviews_df.printSchema()"
      ],
      "metadata": {
        "colab": {
          "base_uri": "https://localhost:8080/"
        },
        "id": "hUq3X1lJhPK5",
        "outputId": "c43cda21-c1bd-48ca-96f7-efb6ecc1ce64"
      },
      "execution_count": 8,
      "outputs": [
        {
          "output_type": "stream",
          "name": "stdout",
          "text": [
            "root\n",
            " |-- review_id: string (nullable = true)\n",
            " |-- customer_id: integer (nullable = true)\n",
            " |-- product_id: string (nullable = true)\n",
            " |-- product_parent: integer (nullable = true)\n",
            " |-- review_date: date (nullable = true)\n",
            "\n"
          ]
        }
      ]
    },
    {
      "cell_type": "code",
      "source": [
        "# counting number of rows in electronics_reviews_df\n",
        "electronics_reviews_df.count()"
      ],
      "metadata": {
        "colab": {
          "base_uri": "https://localhost:8080/"
        },
        "id": "h88SaCvihTn1",
        "outputId": "29a9a585-226f-4ffd-e871-3d8aaf651b8d"
      },
      "execution_count": 9,
      "outputs": [
        {
          "output_type": "execute_result",
          "data": {
            "text/plain": [
              "104975"
            ]
          },
          "metadata": {},
          "execution_count": 9
        }
      ]
    },
    {
      "cell_type": "code",
      "source": [
        "# Create products dataframe to match mobile_apps_df table and removing duplicates\n",
        "electronics_products_df = mobile_electronics_df.select([\"product_id\", \"product_title\"])\n",
        "electronics_products_df = electronics_products_df.drop_duplicates()\n",
        "electronics_products_df.show()"
      ],
      "metadata": {
        "colab": {
          "base_uri": "https://localhost:8080/"
        },
        "id": "OQ4Gm0iXnTMP",
        "outputId": "d1b682a8-1ff9-4a16-f9fe-063e5aafbf60"
      },
      "execution_count": 10,
      "outputs": [
        {
          "output_type": "stream",
          "name": "stdout",
          "text": [
            "+----------+--------------------+\n",
            "|product_id|       product_title|\n",
            "+----------+--------------------+\n",
            "|B01075GRAO|ANYSECU QYT KT890...|\n",
            "|B00QVXNV60|BRG AH2000G-ANR A...|\n",
            "|B004ECO5VA|Holux Mini Smart ...|\n",
            "|B00LGNKLXG|Aweek® Car Antenn...|\n",
            "|B00M1Y87I0|      sentey ls 4063|\n",
            "|B002ABX29I|Micca Slim Portab...|\n",
            "|B00XXA2T2G|Centurion GT1 Car...|\n",
            "|B00Q5A5PD6|HYUNDAI HCR-580 V...|\n",
            "|B00VFEK8IY|Z ZTDM Mini Stere...|\n",
            "|B00L85M8VU|Settonbrothers Ul...|\n",
            "|B00SUXD5GU|[NEW RELEASE] JEB...|\n",
            "|B00KJ7MVYW|Fincibo (TM) Appl...|\n",
            "|B00A6YQQS0|Minisuit Aero Fol...|\n",
            "|B009S99IYI|PIO TSG1644R 6.5 ...|\n",
            "|B006PAZCXY|eForCity® Anti-Gl...|\n",
            "|B00OXD61OE|SHE'O® 2x Cool No...|\n",
            "|B000IBMI1K|RCA 200-Watt Mono...|\n",
            "|B00UN6955M|Aisster(TM) Lot 1...|\n",
            "|B00V684NCQ|LSD 8GB Flash Dri...|\n",
            "|B00A609WOO|eForCity Hybrid S...|\n",
            "+----------+--------------------+\n",
            "only showing top 20 rows\n",
            "\n"
          ]
        }
      ]
    },
    {
      "cell_type": "code",
      "source": [
        "# checking the datatypes of each column\n",
        "electronics_products_df.printSchema()"
      ],
      "metadata": {
        "colab": {
          "base_uri": "https://localhost:8080/"
        },
        "id": "NzendOO2nyjl",
        "outputId": "8f1539be-b4e5-4022-b510-fa67ff75f967"
      },
      "execution_count": 11,
      "outputs": [
        {
          "output_type": "stream",
          "name": "stdout",
          "text": [
            "root\n",
            " |-- product_id: string (nullable = true)\n",
            " |-- product_title: string (nullable = true)\n",
            "\n"
          ]
        }
      ]
    },
    {
      "cell_type": "code",
      "source": [
        "# counting number of rows in electronics_products_df\n",
        "electronics_products_df.count()"
      ],
      "metadata": {
        "colab": {
          "base_uri": "https://localhost:8080/"
        },
        "id": "JU-d5vFkbtmR",
        "outputId": "d197e845-69d7-4997-e988-f4dbf584b232"
      },
      "execution_count": 13,
      "outputs": [
        {
          "output_type": "execute_result",
          "data": {
            "text/plain": [
              "25801"
            ]
          },
          "metadata": {},
          "execution_count": 13
        }
      ]
    },
    {
      "cell_type": "code",
      "source": [
        "# creating customer dataframe and adding \"customer count\" as a column\n",
        "electronics_customers_df = electronics_reviews_df.groupBy(\"customer_id\").agg({\"customer_id\": \"count\"}).withColumnRenamed(\"count(customer_id)\", \"customer_count\")\n",
        "electronics_customers_df.show()"
      ],
      "metadata": {
        "colab": {
          "base_uri": "https://localhost:8080/"
        },
        "id": "FMUvvUodrnHF",
        "outputId": "12ef5db1-568a-4830-92e9-13d9cc1ed0c5"
      },
      "execution_count": 12,
      "outputs": [
        {
          "output_type": "stream",
          "name": "stdout",
          "text": [
            "+-----------+--------------+\n",
            "|customer_id|customer_count|\n",
            "+-----------+--------------+\n",
            "|     176073|             1|\n",
            "|   20992492|             1|\n",
            "|    1397686|             1|\n",
            "|   50371142|             1|\n",
            "|     235096|             1|\n",
            "|   12320806|             1|\n",
            "|   19707203|             1|\n",
            "|   15207172|             1|\n",
            "|     538703|             1|\n",
            "|   11223135|             1|\n",
            "|   31447151|             1|\n",
            "|   35961247|             1|\n",
            "|   17835519|             1|\n",
            "|   15404885|             1|\n",
            "|   10182610|             1|\n",
            "|   52399092|             1|\n",
            "|   17133428|             1|\n",
            "|   27870423|             1|\n",
            "|   11574168|             1|\n",
            "|   30685607|             1|\n",
            "+-----------+--------------+\n",
            "only showing top 20 rows\n",
            "\n"
          ]
        }
      ]
    },
    {
      "cell_type": "code",
      "source": [
        "# checking the datatypes of each column\n",
        "electronics_customers_df.printSchema()"
      ],
      "metadata": {
        "colab": {
          "base_uri": "https://localhost:8080/"
        },
        "id": "tabsBQcGcEVY",
        "outputId": "b04e25b3-de8e-409b-c757-478ef185dddc"
      },
      "execution_count": 14,
      "outputs": [
        {
          "output_type": "stream",
          "name": "stdout",
          "text": [
            "root\n",
            " |-- customer_id: integer (nullable = true)\n",
            " |-- customer_count: long (nullable = false)\n",
            "\n"
          ]
        }
      ]
    },
    {
      "cell_type": "code",
      "source": [
        "# counting number of rows in electronics_customers_df\n",
        "electronics_customers_df.count()"
      ],
      "metadata": {
        "colab": {
          "base_uri": "https://localhost:8080/"
        },
        "id": "aty78OYXcEfk",
        "outputId": "831c889c-55e0-4ebc-e039-dbbee3373fc8"
      },
      "execution_count": 15,
      "outputs": [
        {
          "output_type": "execute_result",
          "data": {
            "text/plain": [
              "101156"
            ]
          },
          "metadata": {},
          "execution_count": 15
        }
      ]
    },
    {
      "cell_type": "markdown",
      "source": [
        "# Configuration for RDS Instance"
      ],
      "metadata": {
        "id": "QPTM7ZjyXS5M"
      }
    },
    {
      "cell_type": "code",
      "source": [
        "# Configure settings for RDS\n",
        "\n",
        "## IMPORTANT : PLEASE ADD YOUR OWN CREDENTIALS FOR RDS ##\n",
        "\n",
        "mode = \"append\"\n",
        "jdbc_url=\"jdbc:postgresql://<connection string>:5432/<database-name>\"\n",
        "config = {\"user\":\"username\", \n",
        "          \"password\": \"<password>\", \n",
        "          \"driver\":\"org.postgresql.Driver\"}"
      ],
      "metadata": {
        "id": "mA2HeFsJeuQ3"
      },
      "execution_count": 16,
      "outputs": []
    },
    {
      "cell_type": "markdown",
      "source": [
        "# Write Dataframes to RDS"
      ],
      "metadata": {
        "id": "zm7KyP8fXX23"
      }
    },
    {
      "cell_type": "code",
      "source": [
        "# Write DataFrame to electronics_customers table in RDS\n",
        "\n",
        "electronics_customers_df.write.jdbc(url=jdbc_url, table='electronics_customers', mode=mode, properties=config)"
      ],
      "metadata": {
        "id": "cShXg837doD2"
      },
      "execution_count": 17,
      "outputs": []
    },
    {
      "cell_type": "code",
      "source": [
        "# Write dataframe to electronics_products table in RDS\n",
        "\n",
        "electronics_products_df.write.jdbc(url=jdbc_url, table='electronics_products', mode=mode, properties=config)"
      ],
      "metadata": {
        "id": "d5cb8j01eTzj"
      },
      "execution_count": 18,
      "outputs": []
    },
    {
      "cell_type": "code",
      "source": [
        "# Write dataframe to electronics_review_id_table in RDS\n",
        "\n",
        "electronics_reviews_df.write.jdbc(url=jdbc_url, table='electronics_review_id_table', mode=mode, properties=config)"
      ],
      "metadata": {
        "id": "oY6qF5NOfDyc"
      },
      "execution_count": null,
      "outputs": []
    }
  ]
}